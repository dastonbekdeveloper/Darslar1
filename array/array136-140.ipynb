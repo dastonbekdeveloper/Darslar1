{
 "cells": [
  {
   "cell_type": "code",
   "execution_count": 5,
   "id": "9cdd1581",
   "metadata": {},
   "outputs": [
    {
     "name": "stdout",
     "output_type": "stream",
     "text": [
      "n=3\n",
      "x=1\n",
      "x=1\n",
      "x=2\n",
      "x=2\n",
      "x=3\n",
      "x=3\n",
      "2 2\n"
     ]
    }
   ],
   "source": [
    "#136\n",
    "n=int(input(\"n=\"))\n",
    "x=[]\n",
    "y=[]\n",
    "birinchi=True\n",
    "zi=0\n",
    "for i in range(n):\n",
    "    x.append(int(input(\"x=\")))\n",
    "    y.append(int(input(\"x=\")))\n",
    "for i in range(n):\n",
    "    s=0\n",
    "    for j in range(n):\n",
    "        l=((x[i]-x[j])**2+(y[i]-y[j])**2)**(1/2)\n",
    "        s=s+l\n",
    "    if birinchi:\n",
    "        birinchi=False\n",
    "        min=s\n",
    "    if s<min:\n",
    "        min=s\n",
    "        zi=i\n",
    "print(x[zi],y[zi])"
   ]
  },
  {
   "cell_type": "code",
   "execution_count": 11,
   "id": "1ce2c262",
   "metadata": {},
   "outputs": [
    {
     "name": "stdout",
     "output_type": "stream",
     "text": [
      "n=5\n",
      "[6, 4, 1, 2, 5]\n",
      "[8, 7, 2, 9, 1]\n",
      "6 8\n",
      "2 9\n",
      "5 1\n"
     ]
    }
   ],
   "source": [
    "#137\n",
    "from random import randint\n",
    "n=int(input(\"n=\"))\n",
    "x=[]\n",
    "y=[]\n",
    "for i in range(n):\n",
    "    x.append(randint(1,9))\n",
    "    y.append(randint(1,9))\n",
    "max=0\n",
    "print(x)\n",
    "print(y)\n",
    "for i in range(n-2):\n",
    "    for j in range(i+1,n-1):\n",
    "        for k in range(j+1,n):\n",
    "            a=((x[i]-x[j])**2+(y[i]-y[j])**2)**(1/2)\n",
    "            b=((x[i]-x[k])**2+(y[i]-y[k])**2)**(1/2)\n",
    "            c=((x[k]-x[j])**2+(y[k]-y[j])**2)**(1/2)\n",
    "            p=a+b+c\n",
    "            if p >max:\n",
    "                max=p\n",
    "                zi=i\n",
    "                zj=j\n",
    "                zk=k\n",
    "print(x[zi],y[zi])\n",
    "print(x[zj],y[zj])\n",
    "print(x[zk],y[zk])"
   ]
  },
  {
   "cell_type": "code",
   "execution_count": 12,
   "id": "7b3852be",
   "metadata": {},
   "outputs": [
    {
     "name": "stdout",
     "output_type": "stream",
     "text": [
      "n=5\n",
      "[2, 6, 4, 8, 4]\n",
      "[7, 1, 2, 1, 6]\n",
      "6 1\n",
      "4 2\n",
      "8 1\n"
     ]
    }
   ],
   "source": [
    "#138\n",
    "from random import randint\n",
    "n=int(input(\"n=\"))\n",
    "x=[]\n",
    "y=[]\n",
    "for i in range(n):\n",
    "    x.append(randint(1,9))\n",
    "    y.append(randint(1,9))\n",
    "birinchi=True\n",
    "print(x)\n",
    "print(y)\n",
    "for i in range(n-2):\n",
    "    for j in range(i+1,n-1):\n",
    "        for k in range(j+1,n):\n",
    "            a=((x[i]-x[j])**2+(y[i]-y[j])**2)**(1/2)\n",
    "            b=((x[i]-x[k])**2+(y[i]-y[k])**2)**(1/2)\n",
    "            c=((x[k]-x[j])**2+(y[k]-y[j])**2)**(1/2)\n",
    "            p=a+b+c\n",
    "            if birinchi:\n",
    "                birinchi=False\n",
    "                min=p\n",
    "            if p<min:\n",
    "                min=p\n",
    "                zi=i\n",
    "                zj=j\n",
    "                zk=k\n",
    "print(x[zi],y[zi])\n",
    "print(x[zj],y[zj])\n",
    "print(x[zk],y[zk])"
   ]
  },
  {
   "cell_type": "code",
   "execution_count": 14,
   "id": "8e3a7796",
   "metadata": {},
   "outputs": [
    {
     "name": "stdout",
     "output_type": "stream",
     "text": [
      "n=5\n",
      "[1, 6, 9, 8, 2]\n",
      "[1, 5, 5, 4, 7]\n",
      "[1, 2, 6, 8, 9] [1, 7, 5, 4, 5]\n"
     ]
    }
   ],
   "source": [
    "#139\n",
    "from random import randint\n",
    "n=int(input(\"n=\"))\n",
    "x=[]\n",
    "y=[]\n",
    "for i in range(n):\n",
    "    x.append(randint(1,9))\n",
    "    y.append(randint(1,9))\n",
    "print(x)\n",
    "print(y)\n",
    "for i in range(n-1):\n",
    "    for j in range(i+1,n):\n",
    "        if x[i]>x[j] or x[i]==x[j] and y[i]>y[j]:\n",
    "            x[i],x[j]=x[j],x[i]\n",
    "            y[i],y[j]=y[j],y[i]\n",
    "print(x,y)"
   ]
  },
  {
   "cell_type": "code",
   "execution_count": 15,
   "id": "01de9697",
   "metadata": {},
   "outputs": [
    {
     "name": "stdout",
     "output_type": "stream",
     "text": [
      "n=5\n",
      "[7, 3, 6, 6, 8]\n",
      "[5, 9, 2, 4, 6]\n",
      "[6, 6, 3, 7, 8] [2, 4, 9, 5, 6]\n"
     ]
    }
   ],
   "source": [
    " "
   ]
  },
  {
   "cell_type": "code",
   "execution_count": null,
   "id": "d7840cc2",
   "metadata": {},
   "outputs": [],
   "source": []
  }
 ],
 "metadata": {
  "kernelspec": {
   "display_name": "Python 3 (ipykernel)",
   "language": "python",
   "name": "python3"
  },
  "language_info": {
   "codemirror_mode": {
    "name": "ipython",
    "version": 3
   },
   "file_extension": ".py",
   "mimetype": "text/x-python",
   "name": "python",
   "nbconvert_exporter": "python",
   "pygments_lexer": "ipython3",
   "version": "3.10.4"
  }
 },
 "nbformat": 4,
 "nbformat_minor": 5
}
