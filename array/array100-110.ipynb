{
 "cells": [
  {
   "cell_type": "code",
   "execution_count": 4,
   "id": "7e861b91",
   "metadata": {
    "scrolled": true
   },
   "outputs": [
    {
     "name": "stdout",
     "output_type": "stream",
     "text": [
      "n=10\n",
      "[2, 3, 3, 1, 5, 1, 5, 4, 1, 3]\n",
      "[2, 3, 3, 1, 1, 4, 1, 3]\n"
     ]
    }
   ],
   "source": [
    "#100\n",
    "from random import randint\n",
    "n=int(input(\"n=\"))\n",
    "a=[randint(1,5) for i in range(n)]\n",
    "b=[]\n",
    "print(a)\n",
    "for i in range(n):\n",
    "    soni=0\n",
    "    for j in range(n):\n",
    "        if a[i]==a[j]:\n",
    "            soni+=1\n",
    "    if soni!=2:\n",
    "        b.append(a[i])\n",
    "print(b)"
   ]
  },
  {
   "cell_type": "code",
   "execution_count": 6,
   "id": "a1905e1a",
   "metadata": {},
   "outputs": [
    {
     "name": "stdout",
     "output_type": "stream",
     "text": [
      "n=5\n",
      "k=2\n",
      "[3, 5, 4, 2, 1, 0]\n",
      "[3, 5, 0, 4, 2, 1]\n"
     ]
    }
   ],
   "source": [
    "#101\n",
    "from random import randint\n",
    "n=int(input(\"n=\"))\n",
    "k=int(input(\"k=\"))\n",
    "a=[randint(1,5) for i in range(n)]\n",
    "a.append(0)\n",
    "print(a)\n",
    "for i in range(n,k-1,-1):\n",
    "    if i!=k:\n",
    "        a[i]=a[i-1]\n",
    "    else:\n",
    "        a[i]=0\n",
    "print(a)"
   ]
  },
  {
   "cell_type": "code",
   "execution_count": 7,
   "id": "40b224b9",
   "metadata": {},
   "outputs": [
    {
     "name": "stdout",
     "output_type": "stream",
     "text": [
      "n=5\n",
      "k=2\n",
      "[2, 3, 1, 1, 2, 0]\n",
      "[2, 3, 1, 0, 1, 2]\n"
     ]
    }
   ],
   "source": [
    "#102\n",
    "from random import randint\n",
    "n=int(input(\"n=\"))\n",
    "k=int(input(\"k=\"))\n",
    "a=[randint(1,5) for i in range(n)]\n",
    "a.append(0)\n",
    "print(a)\n",
    "for i in range(n,k,-1):\n",
    "    a[i]=a[i-1]\n",
    "a[k+1]=0\n",
    "print(a)"
   ]
  },
  {
   "cell_type": "code",
   "execution_count": 8,
   "id": "caa584f1",
   "metadata": {},
   "outputs": [
    {
     "name": "stdout",
     "output_type": "stream",
     "text": [
      "n=5\n",
      "[3, 2, 3, 5, 2, 0, 0]\n",
      "[3, 0, 2, 3, 5, 0, 2]\n"
     ]
    }
   ],
   "source": [
    "#103\n",
    "from random import randint\n",
    "n=int(input(\"n=\"))\n",
    "a=[randint(1,5) for i in range(n)]\n",
    "a.append(0)\n",
    "a.append(0)\n",
    "print(a)\n",
    "min=a[0]\n",
    "max=a[0]\n",
    "l1=0\n",
    "l2=0\n",
    "for i in range(n):\n",
    "    if min>a[i]:\n",
    "        li=i\n",
    "        min=a[i]\n",
    "    if max<a[i]:\n",
    "        l2=i\n",
    "        max=a[i]\n",
    "for i in range(n,l1,-1):\n",
    "    a[i]=a[i-1]\n",
    "a[li]=0\n",
    "n+=1\n",
    "if li<l2:\n",
    "    l2+=1\n",
    "for i in range(n,l2,-1):\n",
    "    a[i]=a[i-1]\n",
    "    a[l2+1]=0\n",
    "print(a)"
   ]
  },
  {
   "cell_type": "code",
   "execution_count": 9,
   "id": "f65fc119",
   "metadata": {},
   "outputs": [
    {
     "name": "stdout",
     "output_type": "stream",
     "text": [
      "n=5\n",
      "k=2\n",
      "m=3\n",
      "2 2 4 4 3 [2, 2, 0, 0, 0, 4, 4, 3]\n"
     ]
    }
   ],
   "source": [
    "#104\n",
    "from random import randint\n",
    "n=int(input(\"n=\"))\n",
    "k=int(input(\"k=\"))\n",
    "m=int(input(\"m=\"))\n",
    "a=[randint(1,5) for i in range(n+m)]\n",
    "for i in range(n):\n",
    "    print(a[i],end=' ')\n",
    "for i in range(n-1+m,-1,-1):\n",
    "    if i-m>=k:\n",
    "        a[i]=a[i-m]\n",
    "    elif i>=k:\n",
    "        a[i]=0\n",
    "print(a)"
   ]
  },
  {
   "cell_type": "code",
   "execution_count": 10,
   "id": "46abfed1",
   "metadata": {},
   "outputs": [
    {
     "name": "stdout",
     "output_type": "stream",
     "text": [
      "n=5\n",
      "k=2\n",
      "m=4\n",
      "5 5 5 4 3 [5, 5, 5, 0, 0, 0, 0, 4, 3]\n"
     ]
    }
   ],
   "source": [
    "#105\n",
    "from random import randint\n",
    "n=int(input(\"n=\"))\n",
    "k=int(input(\"k=\"))\n",
    "m=int(input(\"m=\"))\n",
    "a=[randint(1,5) for i in range(n+m)]\n",
    "for i in range(n):\n",
    "    print(a[i],end=' ')\n",
    "for i in range(n-1+m,k+m,-1):\n",
    "    a[i]=a[i-m]\n",
    "for i in range(k+1,k+m+1):\n",
    "    a[i]=0\n",
    "print(a)"
   ]
  },
  {
   "cell_type": "code",
   "execution_count": 17,
   "id": "b42b27de",
   "metadata": {},
   "outputs": [
    {
     "name": "stdout",
     "output_type": "stream",
     "text": [
      "n=5\n",
      "[4, 1, 3, 5, 2]\n",
      "4 1 3 5 2 4 3 2 "
     ]
    }
   ],
   "source": [
    "#106\n",
    "from random import randint\n",
    "n=int(input(\"n=\"))\n",
    "a=[randint(1,5) for i in range(n)]\n",
    "print(a)\n",
    "for i in range(0,n,2):\n",
    "    a.append(a[i])\n",
    "for i in range(0,n+t):\n",
    "    print(a[i],end=' ')"
   ]
  },
  {
   "cell_type": "code",
   "execution_count": 18,
   "id": "43724b41",
   "metadata": {},
   "outputs": [
    {
     "name": "stdout",
     "output_type": "stream",
     "text": [
      "n=5\n",
      "[3, 4, 1, 1, 4, 4, 4, 1, 1]\n"
     ]
    }
   ],
   "source": [
    "#107\n",
    "from random import randint\n",
    "n=int(input(\"n=\"))\n",
    "a=[randint(1,5) for i in range(n)]\n",
    "for i in range(1,n,2):\n",
    "    a.append(a[i])\n",
    "    a.append(a[i])\n",
    "print(a)"
   ]
  },
  {
   "cell_type": "code",
   "execution_count": 20,
   "id": "bc08021e",
   "metadata": {},
   "outputs": [
    {
     "name": "stdout",
     "output_type": "stream",
     "text": [
      "n=10\n",
      "[-3, 0, 0, 1, 1, 0, -3, 2, 2, 2]\n",
      "[-3, 0, 0, 0, 1, 0, 1, 0, -3, 0, 2, 0, 2, 0, 2]\n"
     ]
    }
   ],
   "source": [
    "#108\n",
    "from random import randint\n",
    "n=int(input(\"n=\"))\n",
    "a=[randint(-3,3) for i in range(n)]\n",
    "print(a)\n",
    "b=[]\n",
    "for i in range(n):\n",
    "    if a[i]>0:\n",
    "        b.append(0)\n",
    "        b.append(a[i])\n",
    "    else:\n",
    "        b.append(a[i])\n",
    "print(b)"
   ]
  },
  {
   "cell_type": "code",
   "execution_count": 24,
   "id": "0aaa000d",
   "metadata": {},
   "outputs": [
    {
     "name": "stdout",
     "output_type": "stream",
     "text": [
      "n=6\n",
      "[1, -3, 1, -2, 2, -2]\n",
      "[1, -3, 0, 1, -2, 0, 2, -2, 0]\n"
     ]
    }
   ],
   "source": [
    "#109\n",
    "from random import randint\n",
    "n=int(input(\"n=\"))\n",
    "a=[randint(-3,3) for i in range(n)]\n",
    "print(a)\n",
    "b=[]\n",
    "for i in range(n):\n",
    "    if a[i]<0:\n",
    "        b.append(a[i])\n",
    "        b.append(0)\n",
    "    else:\n",
    "        b.append(a[i])\n",
    "print(b)"
   ]
  },
  {
   "cell_type": "code",
   "execution_count": 25,
   "id": "54d5bebb",
   "metadata": {},
   "outputs": [
    {
     "name": "stdout",
     "output_type": "stream",
     "text": [
      "n=5\n",
      "[-1, 0, 2, -2, -3]\n",
      "[-1, 0, 2, -2, -3, 0, 2, -2]\n"
     ]
    }
   ],
   "source": [
    "#110\n",
    "from random import randint\n",
    "n=int(input(\"n=\"))\n",
    "a=[randint(-3,3) for i in range(n)]\n",
    "print(a)\n",
    "for i in range(n):\n",
    "    if a[i]%2==0:\n",
    "        a.append(a[i])\n",
    "print(a)"
   ]
  },
  {
   "cell_type": "code",
   "execution_count": null,
   "id": "af690dd8",
   "metadata": {},
   "outputs": [],
   "source": []
  },
  {
   "cell_type": "code",
   "execution_count": null,
   "id": "56ab6888",
   "metadata": {},
   "outputs": [],
   "source": []
  }
 ],
 "metadata": {
  "kernelspec": {
   "display_name": "Python 3 (ipykernel)",
   "language": "python",
   "name": "python3"
  },
  "language_info": {
   "codemirror_mode": {
    "name": "ipython",
    "version": 3
   },
   "file_extension": ".py",
   "mimetype": "text/x-python",
   "name": "python",
   "nbconvert_exporter": "python",
   "pygments_lexer": "ipython3",
   "version": "3.10.4"
  }
 },
 "nbformat": 4,
 "nbformat_minor": 5
}
