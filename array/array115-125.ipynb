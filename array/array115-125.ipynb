{
 "cells": [
  {
   "cell_type": "code",
   "execution_count": 2,
   "id": "8f0e015a",
   "metadata": {},
   "outputs": [
    {
     "name": "stdout",
     "output_type": "stream",
     "text": [
      "n=5\n",
      "[0, 1, 2, 3, 4]\n",
      "[4, 2, 8, 6, 2]\n",
      "[1, 4, 0, 3, 2]\n",
      "[4, 2, 8, 6, 2]\n"
     ]
    }
   ],
   "source": [
    "#115\n",
    "from random import randint\n",
    "n=int(input(\"n=\"))\n",
    "a=[randint(1,9) for i in range(n)]\n",
    "b=[i for i in range(n)]\n",
    "print(b)\n",
    "print(a)\n",
    "for i in range(n-1):\n",
    "    for j in range(i+1,n):\n",
    "        if a[b[i]]>a[b[j]]:\n",
    "            b[i],b[j]=b[j],b[i]\n",
    "print(b)\n",
    "print(a)"
   ]
  },
  {
   "cell_type": "code",
   "execution_count": 20,
   "id": "8baf50bd",
   "metadata": {},
   "outputs": [
    {
     "name": "stdout",
     "output_type": "stream",
     "text": [
      "n=15\n",
      "[3, 1, 1, 3, 5, 8, 2, 4, 8, 8, 9, 9, 5, 1, 5]\n",
      "[0, 3, 0, 1, 1, 0, 3, 0, 5, 0, 8, 0, 2, 0, 4, 0, 8, 8, 0, 9, 9, 0, 5, 0, 1, 0, 5]\n"
     ]
    }
   ],
   "source": [
    "#117\n",
    "from random import randint\n",
    "n=int(input(\"n=\"))\n",
    "a=[randint(1,9) for i in range(n)]\n",
    "print(a)\n",
    "a.append(0)\n",
    "soni=1\n",
    "k=0\n",
    "b=[]\n",
    "c=[]\n",
    "for i in range(n):\n",
    "    if a[i]==a[i+1]:\n",
    "        soni+=1\n",
    "    else:\n",
    "        b.append(soni)\n",
    "        c.append(a[i])\n",
    "        k+=1\n",
    "        soni=1\n",
    "d=[]\n",
    "for i in range(k):\n",
    "    d.append(0)\n",
    "    for j in range(1,b[i]+1):\n",
    "        d.append(c[i])\n",
    "print(d)"
   ]
  },
  {
   "cell_type": "code",
   "execution_count": 22,
   "id": "c9bcfbc5",
   "metadata": {},
   "outputs": [
    {
     "name": "stdout",
     "output_type": "stream",
     "text": [
      "n=15\n",
      "[2, 5, 2, 3, 3, 5, 6, 1, 7, 4, 5, 9, 7, 5, 5]\n",
      "[2, 0, 5, 0, 2, 0, 3, 3, 0, 5, 0, 6, 0, 1, 0, 7, 0, 4, 0, 5, 0, 9, 0, 7, 0, 5, 5, 0]\n"
     ]
    }
   ],
   "source": [
    "#118\n",
    "from random import randint\n",
    "n=int(input(\"n=\"))\n",
    "a=[randint(1,9) for i in range(n)]\n",
    "print(a)\n",
    "a.append(0)\n",
    "soni=1\n",
    "k=0\n",
    "b=[]\n",
    "c=[]\n",
    "d=[]\n",
    "for i in range(n):\n",
    "    if a[i]==a[i+1]:\n",
    "        soni+=1\n",
    "    else:\n",
    "        b.append(soni)\n",
    "        c.append(a[i])\n",
    "        k+=1\n",
    "        soni=1\n",
    "for i in range(k):\n",
    "    for j in range(1,b[i]+1):\n",
    "        d.append(c[i])\n",
    "    d.append(0)\n",
    "print(d)"
   ]
  },
  {
   "cell_type": "code",
   "execution_count": 27,
   "id": "01cfa76a",
   "metadata": {},
   "outputs": [
    {
     "name": "stdout",
     "output_type": "stream",
     "text": [
      "n=5\n",
      "[3, 3, 4, 4, 8]\n",
      "[3, 3, 3, 4, 4, 4, 8, 8]\n"
     ]
    }
   ],
   "source": [
    "#119\n",
    "from random import randint\n",
    "n=int(input(\"n=\"))\n",
    "a=[randint(1,9) for i in range(n)]\n",
    "print(a)\n",
    "a.append(0)\n",
    "soni=1\n",
    "k=0\n",
    "b=[]\n",
    "c=[]\n",
    "d=[]\n",
    "for i in range(n):\n",
    "    if a[i]==a[i+1]:\n",
    "        soni+=1\n",
    "    else:\n",
    "        b.append(soni)\n",
    "        c.append(a[i])\n",
    "        k+=1\n",
    "        soni=1\n",
    "for i in range(k):\n",
    "    for j in range(1,b[i]+1):\n",
    "        d.append(c[i])\n",
    "    d.append(c[i])\n",
    "print(d)"
   ]
  },
  {
   "cell_type": "code",
   "execution_count": 29,
   "id": "b714b36e",
   "metadata": {},
   "outputs": [
    {
     "name": "stdout",
     "output_type": "stream",
     "text": [
      "n=15\n",
      "[2, 3, 3, 1, 1, 1, 2, 1, 3, 2, 1, 3, 3, 3, 3]\n",
      "[3, 1, 1, 3, 3, 3]\n"
     ]
    }
   ],
   "source": [
    "#120\n",
    "from random import randint\n",
    "n=int(input(\"n=\"))\n",
    "a=[randint(1,3) for i in range(n)]\n",
    "print(a)\n",
    "a.append(0)\n",
    "soni=1\n",
    "k=0\n",
    "b=[]\n",
    "c=[]\n",
    "d=[]\n",
    "for i in range(n):\n",
    "    if a[i]==a[i+1]:\n",
    "        soni+=1\n",
    "    else:\n",
    "        b.append(soni)\n",
    "        c.append(a[i])\n",
    "        k+=1\n",
    "        soni=1\n",
    "for i in range(k):\n",
    "    for j in range(1,b[i]):\n",
    "        d.append(c[i])\n",
    "print(d)"
   ]
  },
  {
   "cell_type": "code",
   "execution_count": 34,
   "id": "8810f77b",
   "metadata": {},
   "outputs": [
    {
     "name": "stdout",
     "output_type": "stream",
     "text": [
      "n=15\n",
      "k=3\n",
      "[3, 1, 2, 3, 2, 3, 3, 2, 2, 1, 2, 1, 1, 3, 2]\n",
      "[3, 1, 2, 2, 3, 2, 3, 3, 2, 2, 1, 2, 1, 1, 3, 2]\n"
     ]
    }
   ],
   "source": [
    "#121\n",
    "from random import randint\n",
    "n=int(input(\"n=\"))\n",
    "k=int(input(\"k=\"))\n",
    "a=[randint(1,3) for i in range(n)]\n",
    "print(a)\n",
    "a.append(0)\n",
    "soni=1\n",
    "p=0\n",
    "b=[]\n",
    "c=[]\n",
    "d=[]\n",
    "for i in range(n):\n",
    "    if a[i]==a[i+1]:\n",
    "        soni+=1\n",
    "    else:\n",
    "        b.append(soni)\n",
    "        c.append(a[i])\n",
    "        p+=1\n",
    "        soni=1\n",
    "if k<=p:\n",
    "    b[k-1]=b[k-1]*2\n",
    "    for i in range(p):\n",
    "        for j in range(b[i]):\n",
    "            d.append(c[i])\n",
    "print(d)"
   ]
  },
  {
   "cell_type": "code",
   "execution_count": 35,
   "id": "bd82c26f",
   "metadata": {},
   "outputs": [
    {
     "name": "stdout",
     "output_type": "stream",
     "text": [
      "n=5\n",
      "k=2\n",
      "[1, 3, 3, 3, 2]\n",
      "[1, 2]\n"
     ]
    }
   ],
   "source": [
    "#122\n",
    "from random import randint\n",
    "n=int(input(\"n=\"))\n",
    "k=int(input(\"k=\"))\n",
    "a=[randint(1,3) for i in range(n)]\n",
    "print(a)\n",
    "a.append(0)\n",
    "soni=1\n",
    "p=0\n",
    "b=[]\n",
    "c=[]\n",
    "d=[]\n",
    "for i in range(n):\n",
    "    if a[i]==a[i+1]:\n",
    "        soni+=1\n",
    "    else:\n",
    "        b.append(soni)\n",
    "        c.append(a[i])\n",
    "        p+=1\n",
    "        soni=1\n",
    "if k<=p:\n",
    "    b[k-1]=0\n",
    "    for i in range(p):\n",
    "        for j in range(b[i]):\n",
    "            d.append(c[i])\n",
    "print(d)"
   ]
  },
  {
   "cell_type": "code",
   "execution_count": 40,
   "id": "5f1115c4",
   "metadata": {},
   "outputs": [
    {
     "name": "stdout",
     "output_type": "stream",
     "text": [
      "n=6\n",
      "k=2\n",
      "[2, 2, 1, 2, 1, 2]\n",
      "[1, 2, 2, 2, 1, 2]\n"
     ]
    }
   ],
   "source": [
    "#123\n",
    "from random import randint\n",
    "n=int(input(\"n=\"))\n",
    "k=int(input(\"k=\"))\n",
    "a=[randint(1,2) for i in range(n)]\n",
    "print(a)\n",
    "a.append(0)\n",
    "soni=1\n",
    "p=0\n",
    "b=[]\n",
    "c=[]\n",
    "d=[]\n",
    "for i in range(n):\n",
    "    if a[i]==a[i+1]:\n",
    "        soni+=1\n",
    "    else:\n",
    "        b.append(soni)\n",
    "        c.append(a[i])\n",
    "        p+=1\n",
    "        soni=1\n",
    "if k<=p:\n",
    "    b[0],b[k-1]=b[k-1],b[0]\n",
    "    c[k-1],c[0]=c[0],c[k-1]\n",
    "    for i in range(p):\n",
    "        for j in range(b[i]):\n",
    "            d.append(c[i])\n",
    "print(d)"
   ]
  },
  {
   "cell_type": "code",
   "execution_count": 41,
   "id": "4f15995a",
   "metadata": {},
   "outputs": [
    {
     "name": "stdout",
     "output_type": "stream",
     "text": [
      "n=5\n",
      "k=2\n",
      "[2, 1, 1, 1, 2]\n",
      "[2, 2, 1, 1, 1]\n"
     ]
    }
   ],
   "source": [
    "#124\n",
    "from random import randint\n",
    "n=int(input(\"n=\"))\n",
    "k=int(input(\"k=\"))\n",
    "a=[randint(1,2) for i in range(n)]\n",
    "print(a)\n",
    "a.append(0)\n",
    "soni=1\n",
    "p=0\n",
    "b=[]\n",
    "c=[]\n",
    "d=[]\n",
    "for i in range(n):\n",
    "    if a[i]==a[i+1]:\n",
    "        soni+=1\n",
    "    else:\n",
    "        b.append(soni)\n",
    "        c.append(a[i])\n",
    "        p+=1\n",
    "        soni=1\n",
    "if k<=p:\n",
    "    b[p-1],b[k-1]=b[k-1],b[p-1]\n",
    "    c[k-1],c[p-1]=c[p-1],c[k-1]\n",
    "    for i in range(p):\n",
    "        for j in range(b[i]):\n",
    "            d.append(c[i])\n",
    "print(d)"
   ]
  },
  {
   "cell_type": "code",
   "execution_count": 45,
   "id": "e564acb2",
   "metadata": {},
   "outputs": [
    {
     "name": "stdout",
     "output_type": "stream",
     "text": [
      "n=6\n",
      "k=2\n",
      "[1, 1, 2, 1, 1, 1]\n",
      "[1, 1, 0, 1, 1, 1]\n"
     ]
    }
   ],
   "source": [
    "#125\n",
    "from random import randint\n",
    "n=int(input(\"n=\"))\n",
    "k=int(input(\"k=\"))\n",
    "a=[randint(1,2) for i in range(n)]\n",
    "print(a)\n",
    "a.append(0)\n",
    "soni=1\n",
    "p=0\n",
    "b=[]\n",
    "c=[]\n",
    "d=[]\n",
    "for i in range(n):\n",
    "    if a[i]==a[i+1]:\n",
    "        soni+=1\n",
    "    else:\n",
    "        b.append(soni)\n",
    "        c.append(a[i])\n",
    "        p+=1\n",
    "        soni=1\n",
    "for i in range(p):\n",
    "    for j in range(b[i]):\n",
    "        if b[i]<k:\n",
    "            d.append(0)\n",
    "            b[i]\n",
    "        else:\n",
    "            d.append(c[i])\n",
    "print(d)"
   ]
  },
  {
   "cell_type": "code",
   "execution_count": null,
   "id": "bafd15aa",
   "metadata": {},
   "outputs": [],
   "source": []
  }
 ],
 "metadata": {
  "kernelspec": {
   "display_name": "Python 3 (ipykernel)",
   "language": "python",
   "name": "python3"
  },
  "language_info": {
   "codemirror_mode": {
    "name": "ipython",
    "version": 3
   },
   "file_extension": ".py",
   "mimetype": "text/x-python",
   "name": "python",
   "nbconvert_exporter": "python",
   "pygments_lexer": "ipython3",
   "version": "3.10.4"
  }
 },
 "nbformat": 4,
 "nbformat_minor": 5
}
