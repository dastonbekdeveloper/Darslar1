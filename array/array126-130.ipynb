{
 "cells": [
  {
   "cell_type": "code",
   "execution_count": 7,
   "id": "eb18b6c6",
   "metadata": {},
   "outputs": [
    {
     "name": "stdout",
     "output_type": "stream",
     "text": [
      "n=15\n",
      "k=2\n",
      "[2, 1, 1, 2, 2, 1, 1, 1, 1, 2, 2, 1, 2, 1, 1]\n",
      "[2, 0, 0, 1, 1, 1, 1, 0, 1, 2, 0]\n"
     ]
    }
   ],
   "source": [
    "#126\n",
    "from random import randint\n",
    "n=int(input(\"n=\"))\n",
    "k=int(input(\"k=\"))\n",
    "a=[randint(1,2) for i in range(n)]\n",
    "print(a)\n",
    "a.append(0)\n",
    "soni=1\n",
    "p=0\n",
    "b=[]\n",
    "c=[]\n",
    "d=[]\n",
    "for i in range(n):\n",
    "    if a[i]==a[i+1]:\n",
    "        soni+=1\n",
    "    else:\n",
    "        b.append(soni)\n",
    "        c.append(a[i])\n",
    "        p+=1\n",
    "        soni=1\n",
    "for i in range(p):\n",
    "    for j in range(1,b[i]+1):\n",
    "        if b[i]==k:\n",
    "            d.append(0)\n",
    "            break\n",
    "        else:\n",
    "            d.append(c[i])        \n",
    "print(d)"
   ]
  },
  {
   "cell_type": "code",
   "execution_count": 9,
   "id": "85b42d82",
   "metadata": {},
   "outputs": [
    {
     "name": "stdout",
     "output_type": "stream",
     "text": [
      "n=9\n",
      "k=2\n",
      "[2, 1, 2, 1, 1, 2, 1, 1, 1]\n",
      "[2, 1, 2, 1, 1, 2, 0]\n"
     ]
    }
   ],
   "source": [
    "#127\n",
    "from random import randint\n",
    "n=int(input(\"n=\"))\n",
    "k=int(input(\"k=\"))\n",
    "a=[randint(1,2) for i in range(n)]\n",
    "print(a)\n",
    "a.append(0)\n",
    "soni=1\n",
    "p=0\n",
    "b=[]\n",
    "c=[]\n",
    "d=[]\n",
    "for i in range(n):\n",
    "    if a[i]==a[i+1]:\n",
    "        soni+=1\n",
    "    else:\n",
    "        b.append(soni)\n",
    "        c.append(a[i])\n",
    "        p+=1\n",
    "        soni=1\n",
    "for i in range(p):\n",
    "    for j in range(1,b[i]+1):\n",
    "        if b[i]>k:\n",
    "            d.append(0)\n",
    "            break\n",
    "        else:\n",
    "            d.append(c[i])        \n",
    "print(d)"
   ]
  },
  {
   "cell_type": "code",
   "execution_count": 21,
   "id": "634f354e",
   "metadata": {},
   "outputs": [
    {
     "name": "stdout",
     "output_type": "stream",
     "text": [
      "n=5\n",
      "[2, 1, 1, 1, 2]\n",
      "[2, 1, 1, 1, 1, 2]\n"
     ]
    }
   ],
   "source": [
    "#128\n",
    "from random import randint\n",
    "n=int(input(\"n=\"))\n",
    "a=[randint(1,2) for i in range(n)]\n",
    "print(a)\n",
    "a.append(0)\n",
    "soni=1\n",
    "p=0\n",
    "b=[]\n",
    "c=[]\n",
    "d=[]\n",
    "max=0\n",
    "orni=0\n",
    "for i in range(n):\n",
    "    if a[i]==a[i+1]:\n",
    "        soni+=1\n",
    "    else:\n",
    "        b.append(soni)\n",
    "        c.append(a[i])\n",
    "        if max<soni:\n",
    "            max=soni\n",
    "            orni=p\n",
    "        soni=1\n",
    "        p+=1\n",
    "b[orni]=b[orni]+1\n",
    "for i in range(p):\n",
    "    for j in range(1,b[i]+1):\n",
    "            d.append(c[i])\n",
    "print(d)"
   ]
  },
  {
   "cell_type": "code",
   "execution_count": 36,
   "id": "fde0653a",
   "metadata": {},
   "outputs": [
    {
     "name": "stdout",
     "output_type": "stream",
     "text": [
      "n=6\n",
      "[2, 1, 1, 2, 2, 1]\n",
      "[2, 1, 1, 2, 2, 2, 1]\n"
     ]
    }
   ],
   "source": [
    "#129\n",
    "from random import randint\n",
    "n=int(input(\"n=\"))\n",
    "a=[randint(1,2) for i in range(n)]\n",
    "print(a)\n",
    "a.append(0)\n",
    "soni=1\n",
    "p=0\n",
    "b=[]\n",
    "c=[]\n",
    "d=[]\n",
    "max=0\n",
    "orni=0\n",
    "for i in range(n):\n",
    "    if a[i]==a[i+1]:\n",
    "        soni+=1\n",
    "    else:\n",
    "        b.append(soni)\n",
    "        c.append(a[i])\n",
    "        if max<=soni:\n",
    "            max=soni\n",
    "            orni=p\n",
    "        soni=1\n",
    "        p+=1\n",
    "b[orni]=b[orni]+1\n",
    "for i in range(p):\n",
    "    for j in range(1,b[i]+1):\n",
    "            d.append(c[i])\n",
    "print(d)"
   ]
  },
  {
   "cell_type": "code",
   "execution_count": 37,
   "id": "3a4cad39",
   "metadata": {},
   "outputs": [
    {
     "name": "stdout",
     "output_type": "stream",
     "text": [
      "n=10\n",
      "[2, 2, 1, 2, 1, 1, 2, 2, 1, 2]\n",
      "[2, 2, 2, 1, 1, 2, 2, 1, 1, 1, 2, 2, 2, 1, 1, 2, 2]\n"
     ]
    }
   ],
   "source": [
    "#130\n",
    "from random import randint\n",
    "n=int(input(\"n=\"))\n",
    "a=[randint(1,2) for i in range(n)]\n",
    "print(a)\n",
    "a.append(0)\n",
    "soni=1\n",
    "p=0\n",
    "b=[]\n",
    "c=[]\n",
    "d=[]\n",
    "for i in range(n):\n",
    "    if a[i]==a[i+1]:\n",
    "        soni+=1\n",
    "    else:\n",
    "        b.append(soni)\n",
    "        c.append(a[i])\n",
    "        soni=1\n",
    "        p+=1\n",
    "for i in range(p):\n",
    "    for j in range(1,b[i]+2):\n",
    "            d.append(c[i])\n",
    "print(d)"
   ]
  },
  {
   "cell_type": "code",
   "execution_count": null,
   "id": "55030d45",
   "metadata": {},
   "outputs": [],
   "source": []
  }
 ],
 "metadata": {
  "kernelspec": {
   "display_name": "Python 3 (ipykernel)",
   "language": "python",
   "name": "python3"
  },
  "language_info": {
   "codemirror_mode": {
    "name": "ipython",
    "version": 3
   },
   "file_extension": ".py",
   "mimetype": "text/x-python",
   "name": "python",
   "nbconvert_exporter": "python",
   "pygments_lexer": "ipython3",
   "version": "3.10.4"
  }
 },
 "nbformat": 4,
 "nbformat_minor": 5
}
