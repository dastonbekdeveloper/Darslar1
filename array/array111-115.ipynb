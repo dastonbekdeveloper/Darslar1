{
 "cells": [
  {
   "cell_type": "code",
   "execution_count": 2,
   "id": "13ca419b",
   "metadata": {},
   "outputs": [
    {
     "name": "stdout",
     "output_type": "stream",
     "text": [
      "5\n",
      "[2, 2, 2, 1, 1]\n",
      "[2, 2, 2, 1, 1, 1, 1]\n"
     ]
    }
   ],
   "source": [
    "#111\n",
    "from random import randint\n",
    "n=int(input())\n",
    "a=[randint(1,2) for i in range(n)]\n",
    "b=[]\n",
    "print(a)\n",
    "for i in range(n):\n",
    "    b.append(a[i])\n",
    "    if a[i]%2==1:\n",
    "        b.append(a[i])\n",
    "print(b)"
   ]
  },
  {
   "cell_type": "code",
   "execution_count": null,
   "id": "45592827",
   "metadata": {},
   "outputs": [],
   "source": []
  }
 ],
 "metadata": {
  "kernelspec": {
   "display_name": "Python 3 (ipykernel)",
   "language": "python",
   "name": "python3"
  },
  "language_info": {
   "codemirror_mode": {
    "name": "ipython",
    "version": 3
   },
   "file_extension": ".py",
   "mimetype": "text/x-python",
   "name": "python",
   "nbconvert_exporter": "python",
   "pygments_lexer": "ipython3",
   "version": "3.10.4"
  }
 },
 "nbformat": 4,
 "nbformat_minor": 5
}
