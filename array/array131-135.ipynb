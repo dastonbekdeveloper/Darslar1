{
 "cells": [
  {
   "cell_type": "code",
   "execution_count": 3,
   "id": "8edbd808",
   "metadata": {},
   "outputs": [
    {
     "name": "stdout",
     "output_type": "stream",
     "text": [
      "n=3\n",
      "1\n",
      "2\n",
      "3\n",
      "4\n",
      "5\n",
      "6\n",
      "7\n",
      "8\n",
      "5 6\n"
     ]
    }
   ],
   "source": [
    "#131\n",
    "n=int(input(\"n=\"))\n",
    "orni=0\n",
    "x=[]\n",
    "y=[]\n",
    "for i in range(n):\n",
    "    a=int(input())\n",
    "    b=int(input())\n",
    "    x.append(a)\n",
    "    y.append(b)\n",
    "bx=int(input())\n",
    "by=int(input())\n",
    "dmin=((x[0]-bx)**2+(y[0]-by)**2)**(1/2)\n",
    "for i in range(1,n):\n",
    "    d=((x[i]-bx)**2+(y[i]-by)**2)**(1/2)\n",
    "    if dmin>d:\n",
    "        dmin=d\n",
    "        orni=i\n",
    "print(x[orni],y[orni])"
   ]
  },
  {
   "cell_type": "code",
   "execution_count": 8,
   "id": "0c65b169",
   "metadata": {},
   "outputs": [
    {
     "name": "stdout",
     "output_type": "stream",
     "text": [
      "n=1\n",
      "-1\n",
      "2\n",
      "-1 2\n"
     ]
    }
   ],
   "source": [
    "#132\n",
    "n=int(input(\"n=\"))\n",
    "orni=0\n",
    "x=[]\n",
    "y=[]\n",
    "d=0\n",
    "for i in range(n):\n",
    "    a=int(input())\n",
    "    b=int(input())\n",
    "    x.append(a)\n",
    "    y.append(b)\n",
    "for i in range(n):\n",
    "    if x[i]<0 and y[i]>0:\n",
    "        l=((x[i])**2+(y[i])**2)**(1/2)\n",
    "        if d<l:\n",
    "            d=l\n",
    "            orni=i\n",
    "if orni>=0:\n",
    "    print(x[orni],y[orni])\n",
    "else:\n",
    "    print(0,0)"
   ]
  },
  {
   "cell_type": "code",
   "execution_count": 9,
   "id": "527e825e",
   "metadata": {},
   "outputs": [
    {
     "name": "stdout",
     "output_type": "stream",
     "text": [
      "n=3\n",
      "1\n",
      "2\n",
      "3\n",
      "4\n",
      "5\n",
      "6\n",
      "5 6\n"
     ]
    }
   ],
   "source": [
    "#133\n",
    "n=int(input(\"n=\"))\n",
    "orni=0\n",
    "x=[]\n",
    "y=[]\n",
    "d=0\n",
    "for i in range(n):\n",
    "    a=int(input())\n",
    "    b=int(input())\n",
    "    x.append(a)\n",
    "    y.append(b)\n",
    "for i in range(n):\n",
    "    if x[i]>0 and y[i]>0 or x[i]<0 and y[i]<0:\n",
    "        l=((x[i])**2+(y[i])**2)**(1/2)\n",
    "        if d<l:\n",
    "            d=l\n",
    "            orni=i\n",
    "if orni>=0:\n",
    "    print(x[orni],y[orni])\n",
    "else:\n",
    "    print(0,0)"
   ]
  },
  {
   "cell_type": "code",
   "execution_count": 11,
   "id": "7332ff66",
   "metadata": {},
   "outputs": [
    {
     "name": "stdout",
     "output_type": "stream",
     "text": [
      "n=3\n",
      "6\n",
      "5\n",
      "4\n",
      "3\n",
      "2\n",
      "1\n",
      "6 5\n",
      "2 1\n",
      "5.656854249492381\n"
     ]
    }
   ],
   "source": [
    "#134\n",
    "n=int(input(\"n=\"))\n",
    "orni=0\n",
    "x=[]\n",
    "y=[]\n",
    "zi=0\n",
    "zj=0\n",
    "d=0\n",
    "max=0\n",
    "for i in range(n):\n",
    "    a=int(input())\n",
    "    b=int(input())\n",
    "    x.append(a)\n",
    "    y.append(b)\n",
    "for i in range(n-1):\n",
    "    for j in range(i+1,n):\n",
    "        d=((x[i]-x[j])**2+(y[i]-y[j])**2)**(1/2)\n",
    "        if max<d:\n",
    "            max=d\n",
    "            zi=i\n",
    "            zj=j\n",
    "print(x[zi],y[zi])\n",
    "print(x[zj],y[zj])\n",
    "print(max)"
   ]
  },
  {
   "cell_type": "code",
   "execution_count": 14,
   "id": "addb5b98",
   "metadata": {},
   "outputs": [
    {
     "name": "stdout",
     "output_type": "stream",
     "text": [
      "a to'plam n1=3\n",
      "b to'plam n2=4\n",
      "1\n",
      "2\n",
      "3\n",
      "4\n",
      "5\n",
      "6\n",
      "1\n",
      "2\n",
      "3\n",
      "4\n",
      "5\n",
      "6\n",
      "7\n",
      "8\n",
      "1 2\n",
      "1 2\n",
      "0.0\n"
     ]
    }
   ],
   "source": [
    "#135\n",
    "n1=int(input(\"a to'plam n1=\"))\n",
    "n2=int(input(\"b to'plam n2=\"))\n",
    "ax=[]\n",
    "ay=[]\n",
    "bx=[]\n",
    "by=[]\n",
    "for i in range(n1):\n",
    "    a=int(input())\n",
    "    b=int(input())\n",
    "    ax.append(a)\n",
    "    ay.append(b)\n",
    "for i in range(n2):\n",
    "    a=int(input())\n",
    "    b=int(input())\n",
    "    bx.append(a)\n",
    "    by.append(b)\n",
    "min=((ax[0]-bx[0])**2+(ay[0]-by[0])**2)**(1/2)\n",
    "ak=0\n",
    "bk=0\n",
    "for i in range(n1):\n",
    "    for j in range(n2):\n",
    "        d=((ax[i]-bx[j])**2+(ay[i]-by[j])**2)**(1/2)\n",
    "        if min >d:\n",
    "            min=d\n",
    "            ak=i\n",
    "            bk=j\n",
    "print(ax[ak],ay[ak])\n",
    "print(bx[bk],by[bk])\n",
    "print(min)"
   ]
  },
  {
   "cell_type": "code",
   "execution_count": null,
   "id": "dac63302",
   "metadata": {},
   "outputs": [],
   "source": []
  }
 ],
 "metadata": {
  "kernelspec": {
   "display_name": "Python 3 (ipykernel)",
   "language": "python",
   "name": "python3"
  },
  "language_info": {
   "codemirror_mode": {
    "name": "ipython",
    "version": 3
   },
   "file_extension": ".py",
   "mimetype": "text/x-python",
   "name": "python",
   "nbconvert_exporter": "python",
   "pygments_lexer": "ipython3",
   "version": "3.10.4"
  }
 },
 "nbformat": 4,
 "nbformat_minor": 5
}
