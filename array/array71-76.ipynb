{
 "cells": [
  {
   "cell_type": "code",
   "execution_count": 1,
   "id": "96620ec3",
   "metadata": {},
   "outputs": [
    {
     "name": "stdout",
     "output_type": "stream",
     "text": [
      "n=5\n",
      "[0, 1, 2, 3, 4]\n",
      "[4, 3, 2, 1, 0]\n"
     ]
    }
   ],
   "source": [
    "#71\n",
    "n=int(input(\"n=\"))\n",
    "a=[]\n",
    "a=[i for i in range(n)]\n",
    "print(a)\n",
    "for i in range(n//2):\n",
    "    a[i],a[n-i-1]=a[n-i-1],a[i]\n",
    "print(a)"
   ]
  },
  {
   "cell_type": "code",
   "execution_count": 5,
   "id": "83dae11f",
   "metadata": {},
   "outputs": [
    {
     "name": "stdout",
     "output_type": "stream",
     "text": [
      "n=5\n",
      "k=2\n",
      "h=4\n",
      "[0, 1, 2, 3, 4]\n",
      "[0, 1, 4, 3, 2]\n"
     ]
    }
   ],
   "source": [
    "#72\n",
    "n=int(input(\"n=\"))\n",
    "k=int(input(\"k=\"))\n",
    "h=int(input(\"h=\"))\n",
    "a=[]\n",
    "a=[i for i in range(n)]\n",
    "print(a)\n",
    "p=k+(h-k+1)//2-1\n",
    "for i in range(k,p+1):\n",
    "    a[i],a[h+k-i]=a[h+k-i],a[i]\n",
    "print(a)"
   ]
  },
  {
   "cell_type": "code",
   "execution_count": 7,
   "id": "5f410699",
   "metadata": {},
   "outputs": [
    {
     "name": "stdout",
     "output_type": "stream",
     "text": [
      "n=5\n",
      "k=1\n",
      "h=4\n",
      "[0, 1, 2, 3, 4]\n",
      "[0, 1, 3, 2, 4]\n"
     ]
    }
   ],
   "source": [
    "#73\n",
    "n=int(input(\"n=\"))\n",
    "k=int(input(\"k=\"))\n",
    "h=int(input(\"h=\"))\n",
    "a=[]\n",
    "a=[i for i in range(n)]\n",
    "print(a)\n",
    "p=k+(h-k+1)//2\n",
    "for i in range(k+1,p):\n",
    "    a[i],a[h+k-i]=a[h+k-i],a[i]\n",
    "print(a)"
   ]
  },
  {
   "cell_type": "code",
   "execution_count": 16,
   "id": "e3f40289",
   "metadata": {},
   "outputs": [
    {
     "name": "stdout",
     "output_type": "stream",
     "text": [
      "n=5\n",
      "[0, 0, 0, 0, 4]\n"
     ]
    }
   ],
   "source": [
    "#74\n",
    "n=int(input(\"n=\"))\n",
    "a=[]\n",
    "a=[i for i in range(n)]\n",
    "min=a[0]\n",
    "max=a[0]\n",
    "l=0\n",
    "t=0\n",
    "for i in range(n):\n",
    "    if max<a[i]:\n",
    "        max=a[i]\n",
    "        l=i\n",
    "    if min>a[i]:\n",
    "        min=a[i]\n",
    "        t=i\n",
    "if l>t:\n",
    "    for i in range(t+1,l):\n",
    "        a[i]=0\n",
    "if l<t:\n",
    "    for i in range(l+1,t):\n",
    "        a[i]=0\n",
    "print(a)"
   ]
  },
  {
   "cell_type": "code",
   "execution_count": 22,
   "id": "507b1a2a",
   "metadata": {},
   "outputs": [
    {
     "ename": "SyntaxError",
     "evalue": "invalid syntax (2820549409.py, line 2)",
     "output_type": "error",
     "traceback": [
      "\u001b[1;36m  Input \u001b[1;32mIn [22]\u001b[1;36m\u001b[0m\n\u001b[1;33m    import random from randint\u001b[0m\n\u001b[1;37m                  ^\u001b[0m\n\u001b[1;31mSyntaxError\u001b[0m\u001b[1;31m:\u001b[0m invalid syntax\n"
     ]
    }
   ],
   "source": [
    "#75\n",
    "import random from randint\n",
    "n=int(input(\"n=\"))\n",
    "a=[]\n",
    "a=[randint(1,9) for i in range(n)]\n",
    "min=a[0]\n",
    "max=a[0]\n",
    "l=0\n",
    "t=0\n",
    "for i in range(n):\n",
    "    if max<a[i]:\n",
    "        max=a[i]\n",
    "        l=i\n",
    "    if min>a[i]:\n",
    "        min=a[i]\n",
    "        t=i\n",
    "if l>t:\n",
    "    p=t+(l-t+1)//2-1\n",
    "    for i in range(t,p+1):\n",
    "        a[i],a[l+t-i]=a[l+t-i],a[i]\n",
    "if l<t:\n",
    "    p=l+(t-l+1)//2-1\n",
    "    for i in range(l,p+1):\n",
    "        a[i],a[l+t-i]=a[l+t-i],a[i]\n",
    "print(a)"
   ]
  },
  {
   "cell_type": "code",
   "execution_count": 26,
   "id": "f6f3e486",
   "metadata": {},
   "outputs": [
    {
     "name": "stdout",
     "output_type": "stream",
     "text": [
      "n=5\n",
      "[3, 9, 3, 3, 6]\n",
      "[3, 0, 3, 3, 6]\n"
     ]
    }
   ],
   "source": [
    "#76\n",
    "from random import randint\n",
    "n=int(input(\"n=\"))\n",
    "a=[]\n",
    "a=[randint(1,9) for i in range(n)]\n",
    "print(a)\n",
    "for i in range(1,n-1):\n",
    "    if a[i-1]<a[i] and a[i]>a[i+1]:\n",
    "        a[i]=0\n",
    "print(a)"
   ]
  },
  {
   "cell_type": "code",
   "execution_count": null,
   "id": "4075596a",
   "metadata": {},
   "outputs": [],
   "source": []
  }
 ],
 "metadata": {
  "kernelspec": {
   "display_name": "Python 3 (ipykernel)",
   "language": "python",
   "name": "python3"
  },
  "language_info": {
   "codemirror_mode": {
    "name": "ipython",
    "version": 3
   },
   "file_extension": ".py",
   "mimetype": "text/x-python",
   "name": "python",
   "nbconvert_exporter": "python",
   "pygments_lexer": "ipython3",
   "version": "3.10.4"
  }
 },
 "nbformat": 4,
 "nbformat_minor": 5
}
