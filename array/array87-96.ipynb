{
 "cells": [
  {
   "cell_type": "code",
   "execution_count": 7,
   "id": "7d2c8af7",
   "metadata": {},
   "outputs": [
    {
     "name": "stdout",
     "output_type": "stream",
     "text": [
      "n=5\n",
      "3\n",
      "1\n",
      "2\n",
      "3\n",
      "4\n",
      "[3, 1, 2, 3, 4]\n",
      "[1, 2, 3, 3, 4]\n"
     ]
    }
   ],
   "source": [
    "#87\n",
    "n=int(input(\"n=\"))\n",
    "a=[int(input()) for i in range(n)]\n",
    "print(a)\n",
    "for i in range(1,n):\n",
    "    if a[i-1]>a[i]:\n",
    "        a[i-1],a[i]=a[i],a[i-1]\n",
    "print(a)"
   ]
  },
  {
   "cell_type": "code",
   "execution_count": 8,
   "id": "8699f59b",
   "metadata": {},
   "outputs": [
    {
     "name": "stdout",
     "output_type": "stream",
     "text": [
      "n=5\n",
      "1\n",
      "2\n",
      "3\n",
      "4\n",
      "1\n",
      "[1, 2, 3, 4, 1]\n",
      "[1, 1, 2, 3, 4]\n"
     ]
    }
   ],
   "source": [
    "#88\n",
    "n=int(input(\"n=\"))\n",
    "a=[int(input()) for i in range(n)]\n",
    "print(a)\n",
    "for i in range(n-1,0,-1):\n",
    "    if a[i-1]>a[i]:\n",
    "        a[i-1],a[i]=a[i],a[i-1]\n",
    "print(a)"
   ]
  },
  {
   "cell_type": "code",
   "execution_count": 10,
   "id": "8f02c4a1",
   "metadata": {},
   "outputs": [
    {
     "name": "stdout",
     "output_type": "stream",
     "text": [
      "n=5\n",
      "k=2\n",
      "[0, 1, 2, 3, 4]\n",
      "2\n",
      "[0, 1, 3, 4]\n"
     ]
    }
   ],
   "source": [
    "#90\n",
    "n=int(input(\"n=\"))\n",
    "k=int(input(\"k=\"))\n",
    "a=[i for i in range(n)]\n",
    "print(a)\n",
    "print(a.pop(k))\n",
    "print(a)"
   ]
  },
  {
   "cell_type": "code",
   "execution_count": 18,
   "id": "c576f70c",
   "metadata": {},
   "outputs": [
    {
     "name": "stdout",
     "output_type": "stream",
     "text": [
      "n=5\n",
      "k=2\n",
      "m=\n"
     ]
    },
    {
     "ename": "ValueError",
     "evalue": "invalid literal for int() with base 10: ''",
     "output_type": "error",
     "traceback": [
      "\u001b[1;31m---------------------------------------------------------------------------\u001b[0m",
      "\u001b[1;31mValueError\u001b[0m                                Traceback (most recent call last)",
      "Input \u001b[1;32mIn [18]\u001b[0m, in \u001b[0;36m<cell line: 4>\u001b[1;34m()\u001b[0m\n\u001b[0;32m      2\u001b[0m n\u001b[38;5;241m=\u001b[39m\u001b[38;5;28mint\u001b[39m(\u001b[38;5;28minput\u001b[39m(\u001b[38;5;124m\"\u001b[39m\u001b[38;5;124mn=\u001b[39m\u001b[38;5;124m\"\u001b[39m))\n\u001b[0;32m      3\u001b[0m k\u001b[38;5;241m=\u001b[39m\u001b[38;5;28mint\u001b[39m(\u001b[38;5;28minput\u001b[39m(\u001b[38;5;124m\"\u001b[39m\u001b[38;5;124mk=\u001b[39m\u001b[38;5;124m\"\u001b[39m))\n\u001b[1;32m----> 4\u001b[0m m\u001b[38;5;241m=\u001b[39m\u001b[38;5;28;43mint\u001b[39;49m\u001b[43m(\u001b[49m\u001b[38;5;28;43minput\u001b[39;49m\u001b[43m(\u001b[49m\u001b[38;5;124;43m\"\u001b[39;49m\u001b[38;5;124;43mm=\u001b[39;49m\u001b[38;5;124;43m\"\u001b[39;49m\u001b[43m)\u001b[49m\u001b[43m)\u001b[49m\n\u001b[0;32m      5\u001b[0m a\u001b[38;5;241m=\u001b[39m[i \u001b[38;5;28;01mfor\u001b[39;00m i \u001b[38;5;129;01min\u001b[39;00m \u001b[38;5;28mrange\u001b[39m(n)]\n\u001b[0;32m      6\u001b[0m \u001b[38;5;28mprint\u001b[39m(a)\n",
      "\u001b[1;31mValueError\u001b[0m: invalid literal for int() with base 10: ''"
     ]
    }
   ],
   "source": [
    "#91\n",
    "n=int(input(\"n=\"))\n",
    "k=int(input(\"k=\"))\n",
    "m=int(input(\"m=\"))\n",
    "a=[i for i in range(n)]\n",
    "print(a)\n",
    "while k<m:\n",
    "    m-=1\n",
    "    a.pop(k)\n",
    "print(a)\n",
    "print(len(a))"
   ]
  },
  {
   "cell_type": "code",
   "execution_count": 33,
   "id": "636084e0",
   "metadata": {},
   "outputs": [
    {
     "name": "stdout",
     "output_type": "stream",
     "text": [
      "n=5\n",
      "1\n",
      "2\n",
      "3\n",
      "4\n",
      "5\n",
      "[1, 2, 3, 4, 5]\n",
      "[2, 3, 4, 5]\n",
      "[2, 4, 5]\n",
      "[2, 4]\n",
      "[2, 4]\n"
     ]
    }
   ],
   "source": [
    "#92\n",
    "n=int(input(\"n=\"))\n",
    "a=[int(input()) for i in range(n)]\n",
    "print(a)\n",
    "i=0\n",
    "while i<len(a):\n",
    "    if a[i]%2==1:\n",
    "        a.remove(a[i])\n",
    "        print(a)\n",
    "        continue\n",
    "    i+=1\n",
    "print(a)\n"
   ]
  },
  {
   "cell_type": "code",
   "execution_count": 25,
   "id": "1eb356e1",
   "metadata": {},
   "outputs": [
    {
     "name": "stdout",
     "output_type": "stream",
     "text": [
      "n=5\n",
      "[15, 1, 6, 16, 6]\n",
      "[6, 16, 6]\n",
      "[6, 16, 6]\n",
      "[6, 16, 6]\n",
      "[6, 16, 6]\n"
     ]
    }
   ],
   "source": [
    "#Array 92\n",
    "from random import randint\n",
    "n = int(input('n='))\n",
    "A = [randint(1,20) for i in range(n)]\n",
    "print(A)\n",
    "i=0\n",
    "for _ in range(n):\n",
    "    if A[i]%2==0:\n",
    "        i+=1\n",
    "        print(A)\n",
    "    elif A[i]%2==1:\n",
    "        A.pop(i)   \n",
    "print(A)"
   ]
  },
  {
   "cell_type": "code",
   "execution_count": 45,
   "id": "d33ee263",
   "metadata": {},
   "outputs": [
    {
     "name": "stdout",
     "output_type": "stream",
     "text": [
      "n=5\n",
      "[7, 8, 10, 13, 2]\n",
      "[8, 13]\n"
     ]
    }
   ],
   "source": [
    "#Array 93\n",
    "from random import randint\n",
    "n = int(input('n='))\n",
    "A = [randint(1,20) for i in range(n)]\n",
    "print(A)\n",
    "b=[]\n",
    "for i in range(n):\n",
    "    if i%2==1:\n",
    "        b.append(A[i])\n",
    "print(b)"
   ]
  },
  {
   "cell_type": "code",
   "execution_count": 46,
   "id": "83d42b23",
   "metadata": {},
   "outputs": [
    {
     "name": "stdout",
     "output_type": "stream",
     "text": [
      "n=6\n",
      "[3, 8, 20, 8, 3, 6]\n",
      "[3, 20, 3]\n"
     ]
    }
   ],
   "source": [
    "#Array 94\n",
    "from random import randint\n",
    "n = int(input('n='))\n",
    "A = [randint(1,20) for i in range(n)]\n",
    "print(A)\n",
    "b=[]\n",
    "for i in range(n):\n",
    "    if i%2==0:\n",
    "        b.append(A[i])\n",
    "print(b)"
   ]
  },
  {
   "cell_type": "code",
   "execution_count": 48,
   "id": "749a0035",
   "metadata": {},
   "outputs": [
    {
     "name": "stdout",
     "output_type": "stream",
     "text": [
      "N = 5\n",
      "a = 1\n",
      "a = 1\n",
      "a = 1\n",
      "a = 2\n",
      "a = 2\n",
      "[1, 1, 1, 2, 2]\n",
      "[1, 2]\n"
     ]
    }
   ],
   "source": [
    "#Array 95\n",
    "\n",
    "from random import randint\n",
    "n = int(input(\"N = \"))\n",
    "a = [int(input(\"a = \")) for i in range(n)]\n",
    "print(a)\n",
    "i = 1\n",
    "while i<len(a):\n",
    "    if a[i-1]==a[i]:\n",
    "        del a[i]\n",
    "        continue\n",
    "    i+=1\n",
    "print(a)\n"
   ]
  },
  {
   "cell_type": "code",
   "execution_count": 52,
   "id": "def39f97",
   "metadata": {},
   "outputs": [
    {
     "name": "stdout",
     "output_type": "stream",
     "text": [
      "N = 5\n",
      "a = 1\n",
      "a = 1\n",
      "a = 2\n",
      "a = 2\n",
      "a = 3\n",
      "[1, 1, 2, 2, 3]\n",
      "[3]\n"
     ]
    }
   ],
   "source": [
    "#A96\n",
    "from random import randint\n",
    "n = int(input(\"N = \"))\n",
    "a = [int(input(\"a = \")) for i in range(n)]\n",
    "print(a)\n",
    "i=0\n",
    "b=[]\n",
    "while i<len(a):\n",
    "    s=a.count(a[i])\n",
    "    if s>1:\n",
    "        for j in range(s):\n",
    "            a.remove(a[i])\n",
    "        continue\n",
    "    i+=1\n",
    "print(a)\n"
   ]
  },
  {
   "cell_type": "code",
   "execution_count": 53,
   "id": "83d31da0",
   "metadata": {},
   "outputs": [
    {
     "name": "stdout",
     "output_type": "stream",
     "text": [
      "N = 5\n",
      "a = 1\n",
      "a = 1\n",
      "a = 1\n",
      "a = 2\n",
      "a = 2\n",
      "[1, 1, 1, 2, 2]\n",
      "[]\n"
     ]
    }
   ],
   "source": [
    "#A96\n",
    "from random import randint\n",
    "n = int(input(\"N = \"))\n",
    "a = [int(input(\"a = \")) for i in range(n)]\n",
    "print(a)\n",
    "i=0\n",
    "b=[]\n",
    "while i<len(a):\n",
    "    s=a.count(a[i])\n",
    "    if s>1:\n",
    "        for j in range(s):\n",
    "            a.remove(a[i])\n",
    "        continue\n",
    "    i+=1\n",
    "print(a)"
   ]
  },
  {
   "cell_type": "code",
   "execution_count": null,
   "id": "f48b92e4",
   "metadata": {},
   "outputs": [],
   "source": []
  }
 ],
 "metadata": {
  "kernelspec": {
   "display_name": "Python 3 (ipykernel)",
   "language": "python",
   "name": "python3"
  },
  "language_info": {
   "codemirror_mode": {
    "name": "ipython",
    "version": 3
   },
   "file_extension": ".py",
   "mimetype": "text/x-python",
   "name": "python",
   "nbconvert_exporter": "python",
   "pygments_lexer": "ipython3",
   "version": "3.10.4"
  }
 },
 "nbformat": 4,
 "nbformat_minor": 5
}
