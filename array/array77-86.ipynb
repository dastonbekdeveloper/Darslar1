{
 "cells": [
  {
   "cell_type": "code",
   "execution_count": 3,
   "id": "cabea4d0",
   "metadata": {},
   "outputs": [
    {
     "name": "stdout",
     "output_type": "stream",
     "text": [
      "n = 5\n",
      "3\n",
      "2\n",
      "3\n",
      "4\n",
      "5\n",
      "[3, 2, 3, 4, 5]\n",
      "[3, 4, 3, 4, 5]\n"
     ]
    }
   ],
   "source": [
    "# Array 77\n",
    "\n",
    "n = int(input(\"n = \"))\n",
    "a = [int(input()) for i in range(n)]\n",
    "print(a)\n",
    "\n",
    "x = a[0]\n",
    "\n",
    "for i in range(1,n-1):\n",
    "    if x>a[i]<a[i+1]:\n",
    "        x = a[i]\n",
    "        a[i]=a[i]**2\n",
    "        continue\n",
    "    x = a[i]\n",
    "print(a)"
   ]
  },
  {
   "cell_type": "code",
   "execution_count": 8,
   "id": "000c40f8",
   "metadata": {},
   "outputs": [
    {
     "name": "stdout",
     "output_type": "stream",
     "text": [
      "n=5\n",
      "[3, 8, 6, 2, 4]\n",
      "[5.5, 7.0, 4.0, 3.0, 4]\n"
     ]
    }
   ],
   "source": [
    "#78\n",
    "from random import randint\n",
    "n=int(input(\"n=\"))\n",
    "a=[randint(1,9) for i in range(n)]\n",
    "print(a)\n",
    "for i in range(n-1):\n",
    "    a[i]=(a[i]+a[i+1])/2\n",
    "print(a)"
   ]
  },
  {
   "cell_type": "code",
   "execution_count": 23,
   "id": "fec3bf9b",
   "metadata": {},
   "outputs": [
    {
     "name": "stdout",
     "output_type": "stream",
     "text": [
      "n = 5\n",
      "[3, 7, 2, 6, 4]\n",
      "[0, 3, 7, 2, 6]\n"
     ]
    }
   ],
   "source": [
    "# Array 79\n",
    "\n",
    "n = int(input(\"n = \"))\n",
    "a = [randint(1,9) for i in range(n)]\n",
    "print(a)\n",
    "\n",
    "a = [0]+a[:-1]\n",
    "print(a)"
   ]
  },
  {
   "cell_type": "code",
   "execution_count": 26,
   "id": "2c77ba80",
   "metadata": {},
   "outputs": [
    {
     "name": "stdout",
     "output_type": "stream",
     "text": [
      "n = 5\n",
      "[9, 6, 4, 5, 5]\n",
      "[6, 4, 5, 5, 0]\n"
     ]
    }
   ],
   "source": [
    "# Array 80\n",
    "\n",
    "n = int(input(\"n = \"))\n",
    "a = [randint(1,9) for i in range(n)]\n",
    "print(a)\n",
    "\n",
    "a = a[1:]+[0]\n",
    "print(a)"
   ]
  },
  {
   "cell_type": "code",
   "execution_count": 29,
   "id": "4655c133",
   "metadata": {},
   "outputs": [
    {
     "name": "stdout",
     "output_type": "stream",
     "text": [
      "n = 5\n",
      "k=2\n",
      "[6, 2, 6, 8, 8]\n",
      "[0, 0, 6, 2, 6]\n"
     ]
    }
   ],
   "source": [
    "# Array 81\n",
    "\n",
    "n = int(input(\"n = \"))\n",
    "k=int(input(\"k=\"))\n",
    "a = [randint(1,9) for i in range(n)]\n",
    "print(a)\n",
    "\n",
    "b=[0 for i in range(k)]\n",
    "a = b+a[:(k+1)]\n",
    "print(a)"
   ]
  },
  {
   "cell_type": "code",
   "execution_count": 35,
   "id": "a25c3637",
   "metadata": {},
   "outputs": [
    {
     "name": "stdout",
     "output_type": "stream",
     "text": [
      "n = 5\n",
      "k = 2\n",
      "[8, 9, 4, 2, 5]\n",
      "[4, 2, 5, 0, 0]\n"
     ]
    }
   ],
   "source": [
    "# Array 82\n",
    "\n",
    "n = int(input(\"n = \"))\n",
    "k = int(input(\"k = \"))\n",
    "a = [randint(1,9) for i in range(n)]\n",
    "print(a)\n",
    "b=[0 for i in range(k)]\n",
    "a = a[(k):]+b\n",
    "print(a)"
   ]
  },
  {
   "cell_type": "code",
   "execution_count": 36,
   "id": "2738a8b3",
   "metadata": {},
   "outputs": [
    {
     "name": "stdout",
     "output_type": "stream",
     "text": [
      "n = 5\n",
      "[3, 7, 4, 2, 9]\n",
      "[9, 3, 7, 4, 2]\n"
     ]
    }
   ],
   "source": [
    "# Array 83\n",
    "\n",
    "n = int(input(\"n = \"))\n",
    "a = [randint(1,9) for i in range(n)]\n",
    "print(a)\n",
    "\n",
    "\"\"\"a = a[-1:-2:-1] + a[:-1]\n",
    "print(a)\"\"\"\n",
    "\n",
    "a = [a[-1]] + a[:-1]\n",
    "print(a)"
   ]
  },
  {
   "cell_type": "code",
   "execution_count": 37,
   "id": "9c037df1",
   "metadata": {},
   "outputs": [
    {
     "name": "stdout",
     "output_type": "stream",
     "text": [
      "n = 5\n",
      "[1, 6, 1, 7, 7]\n",
      "[6, 1, 7, 7, 6]\n"
     ]
    }
   ],
   "source": [
    "# Array 84\n",
    "\n",
    "n = int(input(\"n = \"))\n",
    "a = [randint(1,9) for i in range(n)]\n",
    "print(a)\n",
    "\n",
    "\"\"\"a = a[-1:-2:-1] + a[:-1]\n",
    "print(a)\"\"\"\n",
    "\n",
    "a = a[1:] + [a[1]]\n",
    "print(a)"
   ]
  },
  {
   "cell_type": "code",
   "execution_count": 47,
   "id": "3bba932d",
   "metadata": {},
   "outputs": [
    {
     "name": "stdout",
     "output_type": "stream",
     "text": [
      "n = 5\n",
      "[9, 8, 1, 8, 6]\n",
      "k = 2\n",
      "[8, 6, 9, 8, 1]\n"
     ]
    }
   ],
   "source": [
    "# Array 85\n",
    "\n",
    "n = int(input(\"n = \"))\n",
    "a = [randint(1,9) for i in range(n)]\n",
    "print(a)\n",
    "\n",
    "k = int(input(\"k = \"))\n",
    "\n",
    "a = a[k+1:]+a[:-k]\n",
    "print(a)"
   ]
  },
  {
   "cell_type": "code",
   "execution_count": 38,
   "id": "b0e6a075",
   "metadata": {},
   "outputs": [
    {
     "name": "stdout",
     "output_type": "stream",
     "text": [
      "n = 5\n",
      "[6, 1, 8, 4, 5]\n",
      "k = 2\n",
      "[8, 4, 5, 6, 1]\n"
     ]
    }
   ],
   "source": [
    "# Array 86\n",
    "\n",
    "n = int(input(\"n = \"))\n",
    "a = [randint(1,9) for i in range(n)]\n",
    "print(a)\n",
    "\n",
    "k = int(input(\"k = \"))\n",
    "\n",
    "a = a[k:] + a[:k]\n",
    "print(a)"
   ]
  },
  {
   "cell_type": "code",
   "execution_count": null,
   "id": "55769293",
   "metadata": {},
   "outputs": [],
   "source": []
  }
 ],
 "metadata": {
  "kernelspec": {
   "display_name": "Python 3 (ipykernel)",
   "language": "python",
   "name": "python3"
  },
  "language_info": {
   "codemirror_mode": {
    "name": "ipython",
    "version": 3
   },
   "file_extension": ".py",
   "mimetype": "text/x-python",
   "name": "python",
   "nbconvert_exporter": "python",
   "pygments_lexer": "ipython3",
   "version": "3.10.4"
  }
 },
 "nbformat": 4,
 "nbformat_minor": 5
}
