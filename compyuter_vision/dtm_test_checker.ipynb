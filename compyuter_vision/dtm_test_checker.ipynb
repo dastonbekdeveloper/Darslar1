{
 "cells": [
  {
   "cell_type": "code",
   "execution_count": 198,
   "id": "aa74b3c9",
   "metadata": {},
   "outputs": [],
   "source": [
    "import numpy as np\n",
    "import cv2\n",
    "import matplotlib.pyplot as plt\n",
    "import matplotlib.image as mpimg\n",
    "import os\n",
    "import glob"
   ]
  },
  {
   "cell_type": "code",
   "execution_count": 199,
   "id": "fdd8e8e9",
   "metadata": {},
   "outputs": [],
   "source": [
    "asosiy_rasm = cv2.imread(\"rasmlar/dtm_test.png\")\n",
    "asosiy_rasm = cv2.cvtColor(asosiy_rasm,cv2.COLOR_BGR2RGB)"
   ]
  },
  {
   "cell_type": "code",
   "execution_count": 200,
   "id": "3c9c7a8f",
   "metadata": {},
   "outputs": [],
   "source": [
    "def get_rasmlar(path):\n",
    "    rasmlar = []\n",
    "    for i in glob.glob(os.path.join(path,\"*\")):\n",
    "        rasm = cv2.imread(i)\n",
    "        rasm = cv2.resize(rasm,(635,871))\n",
    "        rasm = cv2.cvtColor(rasm,cv2.COLOR_BGR2RGB)\n",
    "        rasmlar.append(rasm)\n",
    "    return np.array(rasmlar)\n",
    "def get_maska_rasmlar(rasmlar):\n",
    "    maska_rasmlar = []\n",
    "    for i in rasmlar:\n",
    "        belgi_1 = np.array([200,0,0])\n",
    "        belgi_2 = np.array([255,150,150])\n",
    "        maska = cv2.inRange(i,belgi_1,belgi_2)\n",
    "        rasm_copy = np.copy(asosiy_rasm)\n",
    "        rasm_copy[maska==0]=0\n",
    "        maska_rasmlar.append(rasm_copy)\n",
    "    return np.array(maska_rasmlar)"
   ]
  },
  {
   "cell_type": "code",
   "execution_count": 201,
   "id": "7ad510a6",
   "metadata": {},
   "outputs": [
    {
     "name": "stdout",
     "output_type": "stream",
     "text": [
      "['B' 'E' 'A' 'B' 'D' 'E' 'B' 'A' 'B' 'C']\n"
     ]
    }
   ],
   "source": [
    "javoblar = ['A','B','C','D','E']\n",
    "np.random.seed(10)\n",
    "togri_javoblar = np.random.choice(javoblar,10)\n",
    "print(togri_javoblar)"
   ]
  },
  {
   "cell_type": "code",
   "execution_count": 204,
   "id": "1bd89d2b",
   "metadata": {},
   "outputs": [],
   "source": [
    "def get_javoblar_soni(maska_rasm):\n",
    "    \n",
    "    javoblar = []\n",
    "    for i in range(175,850,65):\n",
    "        javoblar.append(maska_rasm[i:i+50,170:505])\n",
    "    variantlar = []\n",
    "    for i in range(10):\n",
    "        for j in range(0,335,70):\n",
    "            variantlar.append(javoblar[i][:,j:j+52])  # Matrix bo'yicha append\n",
    "    belgilangan_javoblar=[]\n",
    "    for i in range(len(variantlar)):\n",
    "        if np.sum(variantlar[i])!=0:\n",
    "            if (i+1)%5==1:\n",
    "                belgilangan_javoblar.append(\"A\")\n",
    "            if (i+1)%5==2:\n",
    "                belgilangan_javoblar.append(\"B\")\n",
    "            if (i+1)%5==3:\n",
    "                belgilangan_javoblar.append(\"C\")\n",
    "            if (i+1)%5==4:\n",
    "                belgilangan_javoblar.append(\"D\")\n",
    "            if (i+1)%5==0:\n",
    "                belgilangan_javoblar.append(\"E\")\n",
    "    s=0\n",
    "    for i in range(10):\n",
    "        if belgilangan_javoblar[i]==togri_javoblar[i]:\n",
    "            s+=1\n",
    "    return s"
   ]
  },
  {
   "cell_type": "code",
   "execution_count": 206,
   "id": "0a1ac69a",
   "metadata": {},
   "outputs": [
    {
     "name": "stdout",
     "output_type": "stream",
     "text": [
      "{'0-': 0, '1-': 2, '2-': 4, '3-': 1, '4-': 1, '5-': 2}\n"
     ]
    }
   ],
   "source": [
    "rasmlar = get_rasmlar(\"javoblar_varagi/\")\n",
    "maska_rasmlar = get_maska_rasmlar(rasmlar)\n",
    "idlar = {}\n",
    "for i in range(6):\n",
    "    idlar[str(i)+'-'] = get_javoblar_soni(maska_rasmlar[i])\n",
    "print(idlar)"
   ]
  }
 ],
 "metadata": {
  "kernelspec": {
   "display_name": "Python 3 (ipykernel)",
   "language": "python",
   "name": "python3"
  },
  "language_info": {
   "codemirror_mode": {
    "name": "ipython",
    "version": 3
   },
   "file_extension": ".py",
   "mimetype": "text/x-python",
   "name": "python",
   "nbconvert_exporter": "python",
   "pygments_lexer": "ipython3",
   "version": "3.10.4"
  }
 },
 "nbformat": 4,
 "nbformat_minor": 5
}
